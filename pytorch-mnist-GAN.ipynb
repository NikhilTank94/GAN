{
 "cells": [
  {
   "cell_type": "code",
   "execution_count": 1,
   "metadata": {},
   "outputs": [],
   "source": [
    "# prerequisites\n",
    "import torch\n",
    "import torch.nn as nn\n",
    "import torch.nn.functional as F\n",
    "import torch.optim as optim\n",
    "from torchvision import datasets, transforms\n",
    "from torch.autograd import Variable\n",
    "from torchvision.utils import save_image\n",
    "from torch.utils.data import Subset\n",
    "\n",
    "# Device configuration\n",
    "device = torch.device('cuda' if torch.cuda.is_available() else 'cpu')"
   ]
  },
  {
   "cell_type": "code",
   "execution_count": 3,
   "metadata": {},
   "outputs": [
    {
     "name": "stdout",
     "output_type": "stream",
     "text": [
      "cpu\n"
     ]
    }
   ],
   "source": [
    "print(device)"
   ]
  },
  {
   "cell_type": "code",
   "execution_count": 2,
   "metadata": {},
   "outputs": [
    {
     "name": "stdout",
     "output_type": "stream",
     "text": [
      "60000 10000\n",
      "60 10\n"
     ]
    }
   ],
   "source": [
    "bs = 1000 #paper 64, blog 256 -- ideal batch size ranges from 32 to 128\n",
    "\n",
    "# MNIST Dataset\n",
    "transform = transforms.Compose([transforms.ToTensor(), transforms.Normalize((0.5,), (0.5,))]) #mean 0.5, and std dev 0.5\n",
    "\n",
    "train_dataset = datasets.MNIST(root='./mnist_data/', train=True, transform=transform, download=True)\n",
    "test_dataset = datasets.MNIST(root='./mnist_data/', train=False, transform=transform, download=False)\n",
    "\n",
    "print(len(train_dataset), len(test_dataset))\n",
    "# Data Loader (Input Pipeline)\n",
    "train_loader = torch.utils.data.DataLoader(dataset=train_dataset, batch_size=bs, shuffle = True)\n",
    "test_loader = torch.utils.data.DataLoader(dataset=test_dataset, batch_size=bs, shuffle = True)\n",
    "print(len(train_loader), len(test_loader))"
   ]
  },
  {
   "cell_type": "code",
   "execution_count": 3,
   "metadata": {},
   "outputs": [],
   "source": [
    "class Generator(nn.Module):\n",
    "    def __init__(self, g_input_dim, g_output_dim):\n",
    "        super(Generator, self).__init__()       \n",
    "        self.fc1 = nn.Linear(g_input_dim, 256)\n",
    "        self.fc2 = nn.Linear(self.fc1.out_features, self.fc1.out_features*2)\n",
    "        self.fc3 = nn.Linear(self.fc2.out_features, self.fc2.out_features*2)\n",
    "        self.fc4 = nn.Linear(self.fc3.out_features, g_output_dim)\n",
    "    \n",
    "    # forward method\n",
    "    def forward(self, x): \n",
    "        x = F.leaky_relu(self.fc1(x), 0.2)\n",
    "        x = F.leaky_relu(self.fc2(x), 0.2)\n",
    "        x = F.leaky_relu(self.fc3(x), 0.2)\n",
    "        return torch.tanh(self.fc4(x))\n",
    "    \n",
    "class Discriminator(nn.Module):\n",
    "    def __init__(self, d_input_dim):\n",
    "        super(Discriminator, self).__init__()\n",
    "        self.fc1 = nn.Linear(d_input_dim, 1024)\n",
    "        self.fc2 = nn.Linear(self.fc1.out_features, self.fc1.out_features//2)\n",
    "        self.fc3 = nn.Linear(self.fc2.out_features, self.fc2.out_features//2)\n",
    "        self.fc4 = nn.Linear(self.fc3.out_features, 1)\n",
    "    \n",
    "    # forward method\n",
    "    def forward(self, x):\n",
    "        x = F.leaky_relu(self.fc1(x), 0.2)\n",
    "        x = F.dropout(x, 0.3) #if we are overfitting\n",
    "        x = F.leaky_relu(self.fc2(x), 0.2)\n",
    "        x = F.dropout(x, 0.3)\n",
    "        x = F.leaky_relu(self.fc3(x), 0.2)\n",
    "        x = F.dropout(x, 0.3)\n",
    "        return torch.sigmoid(self.fc4(x))"
   ]
  },
  {
   "cell_type": "code",
   "execution_count": 5,
   "metadata": {},
   "outputs": [
    {
     "name": "stdout",
     "output_type": "stream",
     "text": [
      "60000 28 28\n"
     ]
    }
   ],
   "source": [
    "print(train_dataset.data.size(0),train_dataset.data.size(1),train_dataset.data.size(2))"
   ]
  },
  {
   "cell_type": "markdown",
   "metadata": {},
   "source": [
    "z_dim = 1000\n",
    "mnist_dim = train_dataset.data.size(1) * train_dataset.data.size(2)\n",
    "\n",
    "G = Generator(g_input_dim = z_dim, g_output_dim = mnist_dim).to(device)\n",
    "D = Discriminator(mnist_dim).to(device)"
   ]
  },
  {
   "cell_type": "code",
   "execution_count": 7,
   "metadata": {},
   "outputs": [
    {
     "data": {
      "text/plain": [
       "Generator(\n",
       "  (fc1): Linear(in_features=1000, out_features=256, bias=True)\n",
       "  (fc2): Linear(in_features=256, out_features=512, bias=True)\n",
       "  (fc3): Linear(in_features=512, out_features=1024, bias=True)\n",
       "  (fc4): Linear(in_features=1024, out_features=784, bias=True)\n",
       ")"
      ]
     },
     "execution_count": 7,
     "metadata": {},
     "output_type": "execute_result"
    }
   ],
   "source": [
    "G"
   ]
  },
  {
   "cell_type": "code",
   "execution_count": 8,
   "metadata": {},
   "outputs": [
    {
     "data": {
      "text/plain": [
       "Discriminator(\n",
       "  (fc1): Linear(in_features=784, out_features=1024, bias=True)\n",
       "  (fc2): Linear(in_features=1024, out_features=512, bias=True)\n",
       "  (fc3): Linear(in_features=512, out_features=256, bias=True)\n",
       "  (fc4): Linear(in_features=256, out_features=1, bias=True)\n",
       ")"
      ]
     },
     "execution_count": 8,
     "metadata": {},
     "output_type": "execute_result"
    }
   ],
   "source": [
    "D"
   ]
  },
  {
   "cell_type": "code",
   "execution_count": 10,
   "metadata": {},
   "outputs": [],
   "source": [
    "# loss\n",
    "criterion = nn.BCELoss() \n",
    "\n",
    "# optimizer\n",
    "lr = 0.0002 \n",
    "G_optimizer = optim.Adam(G.parameters(), lr = lr)\n",
    "D_optimizer = optim.Adam(D.parameters(), lr = lr)"
   ]
  },
  {
   "cell_type": "code",
   "execution_count": 11,
   "metadata": {},
   "outputs": [],
   "source": [
    "def G_train(x):\n",
    "    #=======================Train the generator=======================#\n",
    "    G.zero_grad()\n",
    "\n",
    "    z = Variable(torch.randn(bs, z_dim).to(device))\n",
    "    y = Variable(torch.ones(bs, 1).to(device))\n",
    "\n",
    "    G_output = G(z)\n",
    "    D_output = D(G_output)\n",
    "    G_loss = criterion(D_output, y)\n",
    "\n",
    "    # gradient backprop & optimize ONLY G's parameters\n",
    "    G_loss.backward()\n",
    "    G_optimizer.step()\n",
    "        \n",
    "    return G_loss.data.item()"
   ]
  },
  {
   "cell_type": "code",
   "execution_count": 12,
   "metadata": {},
   "outputs": [],
   "source": [
    "def D_train(x):\n",
    "    #=======================Train the discriminator=======================#\n",
    "    D.zero_grad()\n",
    "\n",
    "    # train discriminator on real\n",
    "    x_real, y_real = x.view(-1, mnist_dim), torch.ones(bs, 1)\n",
    "    x_real, y_real = Variable(x_real.to(device)), Variable(y_real.to(device))\n",
    "\n",
    "    D_output = D(x_real)\n",
    "    D_real_loss = criterion(D_output, y_real)\n",
    "    D_real_score = D_output\n",
    "\n",
    "    # train discriminator on fake\n",
    "    z = Variable(torch.randn(bs, z_dim).to(device))\n",
    "    x_fake, y_fake = G(z), Variable(torch.zeros(bs, 1).to(device))\n",
    "\n",
    "    D_output = D(x_fake)\n",
    "    D_fake_loss = criterion(D_output, y_fake)\n",
    "    D_fake_score = D_output\n",
    "\n",
    "    # gradient backprop & optimize ONLY D's parameters\n",
    "    D_loss = D_real_loss + D_fake_loss\n",
    "    D_loss.backward()\n",
    "    D_optimizer.step()\n",
    "        \n",
    "    return  D_loss.data.item()"
   ]
  },
  {
   "cell_type": "code",
   "execution_count": null,
   "metadata": {},
   "outputs": [],
   "source": [
    "n_epoch = 100\n",
    "st_losses_g = [] #store losses for plotting\n",
    "st_losses_d = [] #store losses for plotting\n",
    "for epoch in range(1, n_epoch+1):           \n",
    "    D_losses, G_losses = [], []\n",
    "    for batch_idx, (x, _) in enumerate(train_loader):\n",
    "        D_losses.append(D_train(x))\n",
    "        G_losses.append(G_train(x))\n",
    "    st_losses_g.append(torch.mean(torch.FloatTensor(G_losses))) #add this to other one\n",
    "    st_losses_d.append(torch.mean(torch.FloatTensor(D_losses))) #add this to other one\n",
    "    \n",
    "    print('[%d/%d]: loss_d: %.3f, loss_g: %.3f' % (\n",
    "            (epoch), n_epoch, torch.mean(torch.FloatTensor(D_losses)), torch.mean(torch.FloatTensor(G_losses))))"
   ]
  },
  {
   "cell_type": "code",
   "execution_count": null,
   "metadata": {},
   "outputs": [],
   "source": [
    "with torch.no_grad():\n",
    "    test_z = Variable(torch.randn(bs, z_dim).to(device))\n",
    "    generated = G(test_z)\n",
    "\n",
    "    save_image(generated.view(1000, 1, 28, 28), './samples/GAN_100epoch' + '.png')"
   ]
  },
  {
   "cell_type": "code",
   "execution_count": 15,
   "metadata": {
    "scrolled": true
   },
   "outputs": [
    {
     "name": "stdout",
     "output_type": "stream",
     "text": [
      "[101/200]: loss_d: 0.430, loss_g: 3.236\n",
      "[102/200]: loss_d: 0.425, loss_g: 3.248\n",
      "[103/200]: loss_d: 0.376, loss_g: 3.411\n",
      "[104/200]: loss_d: 0.467, loss_g: 3.298\n",
      "[105/200]: loss_d: 0.462, loss_g: 3.157\n",
      "[106/200]: loss_d: 0.422, loss_g: 3.121\n",
      "[107/200]: loss_d: 0.480, loss_g: 3.101\n",
      "[108/200]: loss_d: 0.465, loss_g: 3.239\n",
      "[109/200]: loss_d: 0.445, loss_g: 3.164\n",
      "[110/200]: loss_d: 0.504, loss_g: 2.892\n",
      "[111/200]: loss_d: 0.508, loss_g: 2.759\n",
      "[112/200]: loss_d: 0.468, loss_g: 2.893\n",
      "[113/200]: loss_d: 0.497, loss_g: 2.903\n",
      "[114/200]: loss_d: 0.474, loss_g: 2.985\n",
      "[115/200]: loss_d: 0.505, loss_g: 2.893\n",
      "[116/200]: loss_d: 0.501, loss_g: 2.944\n",
      "[117/200]: loss_d: 0.535, loss_g: 2.920\n",
      "[118/200]: loss_d: 0.520, loss_g: 2.845\n",
      "[119/200]: loss_d: 0.534, loss_g: 2.767\n",
      "[120/200]: loss_d: 0.533, loss_g: 2.670\n",
      "[121/200]: loss_d: 0.519, loss_g: 2.663\n",
      "[122/200]: loss_d: 0.506, loss_g: 2.766\n",
      "[123/200]: loss_d: 0.500, loss_g: 2.686\n",
      "[124/200]: loss_d: 0.509, loss_g: 2.693\n",
      "[125/200]: loss_d: 0.514, loss_g: 2.714\n",
      "[126/200]: loss_d: 0.534, loss_g: 2.721\n",
      "[127/200]: loss_d: 0.540, loss_g: 2.897\n",
      "[128/200]: loss_d: 0.587, loss_g: 2.519\n",
      "[129/200]: loss_d: 0.543, loss_g: 2.860\n",
      "[130/200]: loss_d: 0.566, loss_g: 2.721\n",
      "[131/200]: loss_d: 0.546, loss_g: 2.810\n",
      "[132/200]: loss_d: 0.549, loss_g: 2.654\n",
      "[133/200]: loss_d: 0.496, loss_g: 2.725\n",
      "[134/200]: loss_d: 0.539, loss_g: 2.618\n",
      "[135/200]: loss_d: 0.580, loss_g: 2.548\n",
      "[136/200]: loss_d: 0.582, loss_g: 2.587\n",
      "[137/200]: loss_d: 0.560, loss_g: 2.681\n",
      "[138/200]: loss_d: 0.609, loss_g: 2.387\n",
      "[139/200]: loss_d: 0.585, loss_g: 2.595\n",
      "[140/200]: loss_d: 0.611, loss_g: 2.479\n",
      "[141/200]: loss_d: 0.623, loss_g: 2.456\n",
      "[142/200]: loss_d: 0.626, loss_g: 2.498\n",
      "[143/200]: loss_d: 0.642, loss_g: 2.464\n",
      "[144/200]: loss_d: 0.633, loss_g: 2.478\n",
      "[145/200]: loss_d: 0.627, loss_g: 2.394\n",
      "[146/200]: loss_d: 0.622, loss_g: 2.418\n",
      "[147/200]: loss_d: 0.617, loss_g: 2.502\n",
      "[148/200]: loss_d: 0.623, loss_g: 2.502\n",
      "[149/200]: loss_d: 0.640, loss_g: 2.381\n",
      "[150/200]: loss_d: 0.651, loss_g: 2.414\n",
      "[151/200]: loss_d: 0.679, loss_g: 2.333\n",
      "[152/200]: loss_d: 0.658, loss_g: 2.324\n",
      "[153/200]: loss_d: 0.684, loss_g: 2.120\n",
      "[154/200]: loss_d: 0.649, loss_g: 2.409\n",
      "[155/200]: loss_d: 0.639, loss_g: 2.345\n",
      "[156/200]: loss_d: 0.648, loss_g: 2.332\n",
      "[157/200]: loss_d: 0.695, loss_g: 2.154\n",
      "[158/200]: loss_d: 0.683, loss_g: 2.175\n",
      "[159/200]: loss_d: 0.696, loss_g: 2.176\n",
      "[160/200]: loss_d: 0.733, loss_g: 2.148\n",
      "[161/200]: loss_d: 0.684, loss_g: 2.335\n",
      "[162/200]: loss_d: 0.719, loss_g: 2.122\n",
      "[163/200]: loss_d: 0.707, loss_g: 2.173\n",
      "[164/200]: loss_d: 0.698, loss_g: 2.108\n",
      "[165/200]: loss_d: 0.711, loss_g: 2.129\n",
      "[166/200]: loss_d: 0.712, loss_g: 2.050\n",
      "[167/200]: loss_d: 0.727, loss_g: 2.093\n",
      "[168/200]: loss_d: 0.723, loss_g: 2.092\n",
      "[169/200]: loss_d: 0.698, loss_g: 2.304\n",
      "[170/200]: loss_d: 0.721, loss_g: 2.133\n",
      "[171/200]: loss_d: 0.741, loss_g: 2.091\n",
      "[172/200]: loss_d: 0.744, loss_g: 2.077\n",
      "[173/200]: loss_d: 0.712, loss_g: 2.170\n",
      "[174/200]: loss_d: 0.725, loss_g: 2.109\n",
      "[175/200]: loss_d: 0.753, loss_g: 2.023\n",
      "[176/200]: loss_d: 0.767, loss_g: 2.065\n",
      "[177/200]: loss_d: 0.779, loss_g: 1.928\n",
      "[178/200]: loss_d: 0.738, loss_g: 2.044\n",
      "[179/200]: loss_d: 0.748, loss_g: 2.102\n",
      "[180/200]: loss_d: 0.798, loss_g: 2.004\n",
      "[181/200]: loss_d: 0.777, loss_g: 1.967\n",
      "[182/200]: loss_d: 0.811, loss_g: 1.863\n",
      "[183/200]: loss_d: 0.780, loss_g: 1.907\n",
      "[184/200]: loss_d: 0.784, loss_g: 1.900\n",
      "[185/200]: loss_d: 0.803, loss_g: 1.888\n",
      "[186/200]: loss_d: 0.778, loss_g: 1.999\n",
      "[187/200]: loss_d: 0.795, loss_g: 1.969\n",
      "[188/200]: loss_d: 0.839, loss_g: 1.906\n",
      "[189/200]: loss_d: 0.800, loss_g: 2.065\n",
      "[190/200]: loss_d: 0.812, loss_g: 1.847\n",
      "[191/200]: loss_d: 0.807, loss_g: 1.879\n",
      "[192/200]: loss_d: 0.748, loss_g: 2.087\n",
      "[193/200]: loss_d: 0.800, loss_g: 1.884\n",
      "[194/200]: loss_d: 0.793, loss_g: 1.976\n",
      "[195/200]: loss_d: 0.735, loss_g: 2.023\n",
      "[196/200]: loss_d: 0.791, loss_g: 1.952\n",
      "[197/200]: loss_d: 0.801, loss_g: 1.888\n",
      "[198/200]: loss_d: 0.818, loss_g: 1.887\n",
      "[199/200]: loss_d: 0.768, loss_g: 1.921\n",
      "[200/200]: loss_d: 0.795, loss_g: 1.898\n"
     ]
    }
   ],
   "source": [
    "n_epoch = 100\n",
    "for epoch in range(1, n_epoch+1):           \n",
    "    D_losses, G_losses = [], []\n",
    "    for batch_idx, (x, _) in enumerate(train_loader):\n",
    "        D_losses.append(D_train(x))\n",
    "        G_losses.append(G_train(x))\n",
    "\n",
    "    print('[%d/%d]: loss_d: %.3f, loss_g: %.3f' % (\n",
    "            (100+epoch), 100+n_epoch, torch.mean(torch.FloatTensor(D_losses)), torch.mean(torch.FloatTensor(G_losses))))"
   ]
  },
  {
   "cell_type": "code",
   "execution_count": 17,
   "metadata": {},
   "outputs": [],
   "source": [
    "with torch.no_grad():\n",
    "    test_z = Variable(torch.randn(bs, z_dim).to(device))\n",
    "    generated = G(test_z)\n",
    "\n",
    "    save_image(generated.view(1000, 1, 28, 28), './samples/GAN_200epoch' + '.png')"
   ]
  },
  {
   "cell_type": "code",
   "execution_count": null,
   "metadata": {},
   "outputs": [],
   "source": [
    "# plot and save the generator and discriminator loss\n",
    "import matplotlib\n",
    "import matplotlib.pyplot as plt\n",
    "plt.figure()\n",
    "plt.plot(st_losses_g, label='Generator loss')\n",
    "plt.plot(st_losses_d, label='Discriminator Loss')\n",
    "plt.legend()\n",
    "plt.savefig('./samples/GAN_loss.png')"
   ]
  }
 ],
 "metadata": {
  "kernelspec": {
   "display_name": "conda_pytorch_p36",
   "language": "python",
   "name": "conda_pytorch_p36"
  },
  "language_info": {
   "codemirror_mode": {
    "name": "ipython",
    "version": 3
   },
   "file_extension": ".py",
   "mimetype": "text/x-python",
   "name": "python",
   "nbconvert_exporter": "python",
   "pygments_lexer": "ipython3",
   "version": "3.6.10"
  }
 },
 "nbformat": 4,
 "nbformat_minor": 2
}
